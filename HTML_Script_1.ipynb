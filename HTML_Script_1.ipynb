{
 "cells": [
  {
   "cell_type": "code",
   "execution_count": 1,
   "metadata": {},
   "outputs": [],
   "source": [
    "import os\n",
    "import time #for chekcing the execution time\n",
    "import requests #for downloading all html files from internet\n",
    "import sys"
   ]
  },
  {
   "cell_type": "markdown",
   "metadata": {},
   "source": [
    "#### Data collection stage(for input data only)  - Web scrapping"
   ]
  },
  {
   "cell_type": "code",
   "execution_count": 2,
   "metadata": {},
   "outputs": [],
   "source": [
    "def retrieve_html():\n",
    "    for year in range(2013,2019):#doing web scrapping for year range between 2013 to 2018\n",
    "        for month in range(1,13):\n",
    "            if month<10:#for month 10, the url will have '10' and not '010' so putting this condition for single digit months\n",
    "                url = 'https://en.tutiempo.net/climate/0{}-{}/ws-432950.html'.format(month,year)\n",
    "            else:\n",
    "                url = 'https://en.tutiempo.net/climate/{}-{}/ws-432950.html'.format(month,year) \n",
    "            texts = requests.get(url)\n",
    "            text_utf = texts.text.encode('utf=8')#for handling special characters in my data file\n",
    "        \n",
    "            if not os.path.exists(\"./Data/Html_Data/{}\".format(year)):#for creating folders in under a specific directory. \n",
    "                                                                     #If it is not present then create ONE.\n",
    "                os.makedirs(\"./Data/Html_Data/{}\".format(year))\n",
    "            with open('./Data/Html_Data/{}/{}.html'.format(year,month),'wb') as output:\n",
    "                output.write(text_utf)#we are opening example:Data/Htlm_Data/2013/02.html and writing the data\n",
    "            sys.stdout.flush()#stdout will force it to 'flush' the buffer \n",
    "                              #i.e it will write everything present in the buffer, to the terminal"
   ]
  },
  {
   "cell_type": "code",
   "execution_count": 3,
   "metadata": {},
   "outputs": [],
   "source": [
    "#. and .. means (current directory and the parent directory respectively)"
   ]
  },
  {
   "cell_type": "code",
   "execution_count": 3,
   "metadata": {},
   "outputs": [
    {
     "name": "stdout",
     "output_type": "stream",
     "text": [
      "Time taken 128.04672765731812\n"
     ]
    }
   ],
   "source": [
    "if __name__ == '__main__':\n",
    "    start = time.time()\n",
    "    retrieve_html()\n",
    "    stop = time.time()\n",
    "    print('Time taken {}'.format(stop-start))"
   ]
  },
  {
   "cell_type": "code",
   "execution_count": null,
   "metadata": {},
   "outputs": [],
   "source": []
  }
 ],
 "metadata": {
  "kernelspec": {
   "display_name": "Python 3",
   "language": "python",
   "name": "python3"
  },
  "language_info": {
   "codemirror_mode": {
    "name": "ipython",
    "version": 3
   },
   "file_extension": ".py",
   "mimetype": "text/x-python",
   "name": "python",
   "nbconvert_exporter": "python",
   "pygments_lexer": "ipython3",
   "version": "3.7.7"
  }
 },
 "nbformat": 4,
 "nbformat_minor": 4
}
